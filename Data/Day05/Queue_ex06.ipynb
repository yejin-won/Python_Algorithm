{
 "cells": [
  {
   "cell_type": "code",
   "execution_count": 4,
   "metadata": {},
   "outputs": [
    {
     "name": "stdout",
     "output_type": "stream",
     "text": [
      "2\n",
      "1\n",
      "2\n",
      "0\n",
      "2\n",
      "1\n",
      "-1\n",
      "0\n",
      "1\n",
      "-1\n",
      "0\n",
      "3\n"
     ]
    }
   ],
   "source": [
    "import sys\n",
    "from collections import deque\n",
    "\n",
    "num = int(sys.stdin.readline())\n",
    "queue = deque([])\n",
    "\n",
    "for i in range(num):\n",
    "    word = sys.stdin.readline().split()\n",
    "    order = word[0]\n",
    "    if order == 'push_front':\n",
    "        queue.appendleft(word[1])\n",
    "    elif order == 'push_back':\n",
    "        queue.append(word[1])\n",
    "    elif order == 'pop_front':\n",
    "        if len(queue) != 0:\n",
    "            print(queue.popleft())\n",
    "        else:\n",
    "            print(-1)\n",
    "    elif order == 'pop_back':\n",
    "        if len(queue) != 0:\n",
    "            print(queue.pop())\n",
    "        else:\n",
    "            print(-1)\n",
    "    elif order == 'size':\n",
    "        print(len(queue))\n",
    "    elif order == 'empty':\n",
    "        if len(queue) != 0:\n",
    "            print(0)\n",
    "        else:\n",
    "            print(1)\n",
    "    elif order == 'front':\n",
    "        if len(queue) != 0:\n",
    "            print(queue[0])\n",
    "        else:\n",
    "            print(-1)\n",
    "    elif order == 'back':\n",
    "        if len(queue) != 0:\n",
    "            print(queue[-1])\n",
    "        else:\n",
    "            print(-1)"
   ]
  },
  {
   "cell_type": "code",
   "execution_count": null,
   "metadata": {},
   "outputs": [],
   "source": []
  }
 ],
 "metadata": {
  "kernelspec": {
   "display_name": "Python 3.9.6 64-bit",
   "language": "python",
   "name": "python3"
  },
  "language_info": {
   "codemirror_mode": {
    "name": "ipython",
    "version": 3
   },
   "file_extension": ".py",
   "mimetype": "text/x-python",
   "name": "python",
   "nbconvert_exporter": "python",
   "pygments_lexer": "ipython3",
   "version": "3.9.6"
  },
  "orig_nbformat": 4,
  "vscode": {
   "interpreter": {
    "hash": "2134e9e06ff0f43fbc4a90d89383a8592ae6dbbea825f5933f9c275bf72ba7a5"
   }
  }
 },
 "nbformat": 4,
 "nbformat_minor": 2
}
