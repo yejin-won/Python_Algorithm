{
 "cells": [
  {
   "cell_type": "code",
   "execution_count": 27,
   "metadata": {},
   "outputs": [],
   "source": [
    "num = int(input())\n",
    "result = []\n",
    "\n",
    "for i in range(num):\n",
    "    pString = input()\n",
    "    result.append(pString)"
   ]
  },
  {
   "cell_type": "code",
   "execution_count": 31,
   "metadata": {},
   "outputs": [
    {
     "name": "stdout",
     "output_type": "stream",
     "text": [
      "sum: 3\n",
      "sum1: 4\n",
      "NO\n",
      "sum: 6\n",
      "sum1: 4\n",
      "NO\n",
      "sum: 6\n",
      "sum1: 6\n",
      "YES\n",
      "sum: 11\n",
      "sum1: 10\n",
      "NO\n",
      "sum: 9\n",
      "sum1: 9\n",
      "YES\n",
      "sum: 7\n",
      "sum1: 4\n",
      "NO\n"
     ]
    }
   ],
   "source": [
    "sum = 0\n",
    "sum1 = 0\n",
    "\n",
    "for i in result:\n",
    "    for j in i:\n",
    "        if j in \"(\":\n",
    "            sum += len(j)\n",
    "        if j in \")\":\n",
    "            sum1 += len(j)\n",
    "    print(\"sum:\",sum)\n",
    "    print(\"sum1:\",sum1)\n",
    "    if sum != sum1:\n",
    "        print(\"NO\")\n",
    "    else:\n",
    "        print(\"YES\")\n",
    "    sum = 0\n",
    "    sum1 = 0"
   ]
  },
  {
   "cell_type": "code",
   "execution_count": null,
   "metadata": {},
   "outputs": [],
   "source": [
    "# 블로그에서 방법 참고하여 수정한 코드 => 왜 이 방법은 안되는지?..."
   ]
  },
  {
   "cell_type": "code",
   "execution_count": 1,
   "metadata": {},
   "outputs": [],
   "source": [
    "num = int(input())\n",
    "result = []\n",
    "\n",
    "for i in range(num):\n",
    "    pString = input()\n",
    "    result.append(pString)"
   ]
  },
  {
   "cell_type": "code",
   "execution_count": 23,
   "metadata": {},
   "outputs": [
    {
     "name": "stdout",
     "output_type": "stream",
     "text": [
      "NO\n",
      "NO\n",
      "YES\n",
      "NO\n",
      "YES\n",
      "NO\n"
     ]
    }
   ],
   "source": [
    "sum = 0\n",
    "\n",
    "for i in result:\n",
    "    for j in i:\n",
    "        if j in \"(\":\n",
    "            sum += len(j)\n",
    "        if j in \")\":\n",
    "            sum -= len(j)\n",
    "    # print(\"sum:\",sum)\n",
    "    if sum != 0:\n",
    "        print(\"NO\")\n",
    "    else:\n",
    "        print(\"YES\")\n",
    "    sum = 0"
   ]
  },
  {
   "cell_type": "code",
   "execution_count": null,
   "metadata": {},
   "outputs": [],
   "source": [
    "# 블로그 참고 소스"
   ]
  },
  {
   "cell_type": "code",
   "execution_count": 31,
   "metadata": {},
   "outputs": [
    {
     "name": "stdout",
     "output_type": "stream",
     "text": [
      "NO\n",
      "NO\n",
      "YES\n",
      "NO\n",
      "YES\n",
      "NO\n"
     ]
    }
   ],
   "source": [
    "a = int(input())\n",
    "for i in range(a):\n",
    "    b = input()\n",
    "    s = list(b)\n",
    "    sum = 0\n",
    "    for i in s:\n",
    "        if i == '(':\n",
    "            sum += 1\n",
    "        elif i == ')':\n",
    "            sum -= 1\n",
    "        if sum < 0:\n",
    "            print('NO')\n",
    "            break\n",
    "    if sum > 0:\n",
    "        print('NO')\n",
    "    elif sum == 0:\n",
    "        print('YES')"
   ]
  }
 ],
 "metadata": {
  "kernelspec": {
   "display_name": "Python 3.9.6 64-bit",
   "language": "python",
   "name": "python3"
  },
  "language_info": {
   "codemirror_mode": {
    "name": "ipython",
    "version": 3
   },
   "file_extension": ".py",
   "mimetype": "text/x-python",
   "name": "python",
   "nbconvert_exporter": "python",
   "pygments_lexer": "ipython3",
   "version": "3.9.6"
  },
  "orig_nbformat": 4,
  "vscode": {
   "interpreter": {
    "hash": "2134e9e06ff0f43fbc4a90d89383a8592ae6dbbea825f5933f9c275bf72ba7a5"
   }
  }
 },
 "nbformat": 4,
 "nbformat_minor": 2
}
