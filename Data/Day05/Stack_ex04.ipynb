{
 "cells": [
  {
   "cell_type": "raw",
   "metadata": {},
   "source": [
    "# 해당 문제는 다시 풀어봐야 함 => 블로그 참고 소스"
   ]
  },
  {
   "cell_type": "raw",
   "metadata": {},
   "source": [
    "So when I die (the [first] I will see in (heaven) is a score list).\n",
    "[ first in ] ( first out ).\n",
    "Half Moon tonight (At least it is better than no Moon at all].\n",
    "A rope may form )( a trail in a maze.\n",
    "Help( I[m being held prisoner in a fortune cookie factory)].\n",
    "([ (([( [ ] ) ( ) (( ))] )) ]).\n",
    " .\n",
    "."
   ]
  },
  {
   "cell_type": "code",
   "execution_count": 77,
   "metadata": {},
   "outputs": [
    {
     "name": "stdout",
     "output_type": "stream",
     "text": [
      "no\n"
     ]
    }
   ],
   "source": [
    "while True:\n",
    "    sentense = input()\n",
    "    if sentense == '.':    \n",
    "        break\n",
    "    stack = []\n",
    "    status = 'yes' \n",
    "\n",
    "    for i in sentense:\n",
    "        if i == '(' or i == '[':\n",
    "            stack.append(i)\n",
    "        elif i == ')':\n",
    "            if len(stack) !=0 and stack[-1] == '(':\n",
    "                stack.pop()\n",
    "            else:\n",
    "                status = 'no'\n",
    "                break\n",
    "        elif i == ']':\n",
    "            if len(stack) !=0 and stack[-1] == '[':\n",
    "                stack.pop()\n",
    "            else:\n",
    "                status = 'no'\n",
    "                break\n",
    "    if len(stack) == 0:\n",
    "        print(status)\n",
    "    else:\n",
    "        print(\"no\")"
   ]
  },
  {
   "cell_type": "code",
   "execution_count": null,
   "metadata": {},
   "outputs": [],
   "source": []
  }
 ],
 "metadata": {
  "kernelspec": {
   "display_name": "Python 3.9.6 64-bit",
   "language": "python",
   "name": "python3"
  },
  "language_info": {
   "codemirror_mode": {
    "name": "ipython",
    "version": 3
   },
   "file_extension": ".py",
   "mimetype": "text/x-python",
   "name": "python",
   "nbconvert_exporter": "python",
   "pygments_lexer": "ipython3",
   "version": "3.9.6"
  },
  "orig_nbformat": 4,
  "vscode": {
   "interpreter": {
    "hash": "2134e9e06ff0f43fbc4a90d89383a8592ae6dbbea825f5933f9c275bf72ba7a5"
   }
  }
 },
 "nbformat": 4,
 "nbformat_minor": 2
}
