{
 "cells": [
  {
   "cell_type": "code",
   "execution_count": 26,
   "metadata": {},
   "outputs": [
    {
     "name": "stdout",
     "output_type": "stream",
     "text": [
      "deque([5, 6])\n",
      "5 6\n"
     ]
    }
   ],
   "source": [
    "from collections import deque\n",
    "\n",
    "num = int(input()) # 라우터 내부에 존재하는 버퍼의 크기(N)\n",
    "queue = deque([]) # 버퍼 정보를 저장할 큐 생성\n",
    "\n",
    "while True:\n",
    "    router_info = int(input()) \n",
    "    if -1 == router_info: # -1 : 입력의 끝\n",
    "        break\n",
    "    elif router_info != 0 and len(queue) < num: \n",
    "        # 입력한 수가 0이 아니거나 Num보다 리스트 길이가 클 경우\n",
    "        queue.append(router_info)\n",
    "    elif router_info == 0: # 0 : 패킷처리 => 이전의 숫자 제거\n",
    "        queue.popleft()\n",
    "\n",
    "if queue: # queue에 숫자가 존재할 경우\n",
    "    print(queue)\n",
    "    print(*queue)\n",
    "else: # queue에 숫자가 존재하지 않는 경우\n",
    "    print(\"empty\")"
   ]
  },
  {
   "cell_type": "code",
   "execution_count": null,
   "metadata": {},
   "outputs": [],
   "source": []
  }
 ],
 "metadata": {
  "kernelspec": {
   "display_name": "Python 3.9.6 64-bit",
   "language": "python",
   "name": "python3"
  },
  "language_info": {
   "codemirror_mode": {
    "name": "ipython",
    "version": 3
   },
   "file_extension": ".py",
   "mimetype": "text/x-python",
   "name": "python",
   "nbconvert_exporter": "python",
   "pygments_lexer": "ipython3",
   "version": "3.9.6"
  },
  "orig_nbformat": 4,
  "vscode": {
   "interpreter": {
    "hash": "2134e9e06ff0f43fbc4a90d89383a8592ae6dbbea825f5933f9c275bf72ba7a5"
   }
  }
 },
 "nbformat": 4,
 "nbformat_minor": 2
}
