{
 "cells": [
  {
   "cell_type": "code",
   "execution_count": 14,
   "metadata": {},
   "outputs": [
    {
     "name": "stdout",
     "output_type": "stream",
     "text": [
      "-1\n",
      "-1\n",
      "123\n",
      "123\n",
      "-1\n",
      "-1\n"
     ]
    }
   ],
   "source": [
    "import sys\n",
    "\n",
    "num = int(sys.stdin.readline())\n",
    "result = []\n",
    "\n",
    "for i in range(num):\n",
    "    word = sys.stdin.readline().split()\n",
    "    order = word[0]\n",
    "    if order == \"pop\":\n",
    "        if len(result) == 0:\n",
    "            print(\"-1\")\n",
    "        else:\n",
    "            print(result.pop())\n",
    "    elif order == \"push\":\n",
    "            x = word[1]\n",
    "            result.append(x)\n",
    "    elif order == \"top\":\n",
    "            if len(result) == 0:\n",
    "                print(\"-1\")\n",
    "            else:\n",
    "                print(result[-1])\n",
    "    elif order == \"empty\":\n",
    "            if len(result) == 0:\n",
    "                print(\"1\")\n",
    "            else:\n",
    "                print(\"0\")\n",
    "    elif order == \"size\":\n",
    "            print(len(result))"
   ]
  },
  {
   "cell_type": "code",
   "execution_count": null,
   "metadata": {},
   "outputs": [],
   "source": []
  }
 ],
 "metadata": {
  "kernelspec": {
   "display_name": "Python 3.9.6 64-bit",
   "language": "python",
   "name": "python3"
  },
  "language_info": {
   "codemirror_mode": {
    "name": "ipython",
    "version": 3
   },
   "file_extension": ".py",
   "mimetype": "text/x-python",
   "name": "python",
   "nbconvert_exporter": "python",
   "pygments_lexer": "ipython3",
   "version": "3.9.6"
  },
  "orig_nbformat": 4,
  "vscode": {
   "interpreter": {
    "hash": "2134e9e06ff0f43fbc4a90d89383a8592ae6dbbea825f5933f9c275bf72ba7a5"
   }
  }
 },
 "nbformat": 4,
 "nbformat_minor": 2
}
