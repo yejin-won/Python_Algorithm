{
 "cells": [
  {
   "cell_type": "code",
   "execution_count": 64,
   "metadata": {},
   "outputs": [
    {
     "name": "stdout",
     "output_type": "stream",
     "text": [
      "2 3 0 3 1 "
     ]
    }
   ],
   "source": [
    "num = int(input()) # 입력 갯수\n",
    "cord = list(map(int,input().split())) # 좌표\n",
    "\n",
    "cord_set = set(cord) # 중복없앤 좌표 리스트 생성\n",
    "a = list(cord_set)\n",
    "a.sort() # 위의 리스트 정렬\n",
    "\n",
    "index_arr = {}\n",
    "for i in range(len(a)): \n",
    "    index_arr[a[i]] = i # index_arr[리스트 a의 값] = 인덱스를 할당함\n",
    "for i in cord:\n",
    "    print(index_arr[i],end=' ') # 오름차순으로 동일한 좌표값은 동일 인덱스 출력됨\n"
   ]
  },
  {
   "cell_type": "code",
   "execution_count": 66,
   "metadata": {},
   "outputs": [
    {
     "data": {
      "text/plain": [
       "0"
      ]
     },
     "execution_count": 66,
     "metadata": {},
     "output_type": "execute_result"
    }
   ],
   "source": [
    "index_arr[-10]"
   ]
  },
  {
   "cell_type": "code",
   "execution_count": null,
   "metadata": {},
   "outputs": [],
   "source": []
  }
 ],
 "metadata": {
  "kernelspec": {
   "display_name": "Python 3.9.6 64-bit",
   "language": "python",
   "name": "python3"
  },
  "language_info": {
   "codemirror_mode": {
    "name": "ipython",
    "version": 3
   },
   "file_extension": ".py",
   "mimetype": "text/x-python",
   "name": "python",
   "nbconvert_exporter": "python",
   "pygments_lexer": "ipython3",
   "version": "3.9.6"
  },
  "orig_nbformat": 4,
  "vscode": {
   "interpreter": {
    "hash": "2134e9e06ff0f43fbc4a90d89383a8592ae6dbbea825f5933f9c275bf72ba7a5"
   }
  }
 },
 "nbformat": 4,
 "nbformat_minor": 2
}
