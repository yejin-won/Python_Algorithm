{
 "cells": [
  {
   "cell_type": "code",
   "execution_count": 2,
   "metadata": {},
   "outputs": [
    {
     "data": {
      "text/plain": [
       "['i',\n",
       " 'it',\n",
       " 'im',\n",
       " 'no',\n",
       " 'but',\n",
       " 'more',\n",
       " 'wait',\n",
       " 'wont',\n",
       " 'yours',\n",
       " 'cannot',\n",
       " 'hesitate']"
      ]
     },
     "execution_count": 2,
     "metadata": {},
     "output_type": "execute_result"
    }
   ],
   "source": [
    "num = int(input())\n",
    "word = []\n",
    "for i in range(num):\n",
    "    word.append(input())\n",
    "print(sorted(set(word),key=len))"
   ]
  },
  {
   "cell_type": "code",
   "execution_count": null,
   "metadata": {},
   "outputs": [],
   "source": [
    "import sys\n",
    "num = int(sys.stdin.readline())\n",
    "word = []\n",
    "for i in range(num):\n",
    "    word.append(sys.stdin.readline().strip())\n",
    "set_word = set(word)\n",
    "word = list(set_word)\n",
    "word.sort()\n",
    "word.sort(key=len)\n",
    "\n",
    "for i in word:\n",
    "    print(i)"
   ]
  }
 ],
 "metadata": {
  "kernelspec": {
   "display_name": "Python 3.9.6 64-bit",
   "language": "python",
   "name": "python3"
  },
  "language_info": {
   "codemirror_mode": {
    "name": "ipython",
    "version": 3
   },
   "file_extension": ".py",
   "mimetype": "text/x-python",
   "name": "python",
   "nbconvert_exporter": "python",
   "pygments_lexer": "ipython3",
   "version": "3.9.6"
  },
  "orig_nbformat": 4,
  "vscode": {
   "interpreter": {
    "hash": "2134e9e06ff0f43fbc4a90d89383a8592ae6dbbea825f5933f9c275bf72ba7a5"
   }
  }
 },
 "nbformat": 4,
 "nbformat_minor": 2
}
