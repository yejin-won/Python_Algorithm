{
 "cells": [
  {
   "cell_type": "code",
   "execution_count": 79,
   "metadata": {},
   "outputs": [],
   "source": [
    "progresses = [93,30,55]\n",
    "speeds = [1,30,5]"
   ]
  },
  {
   "cell_type": "code",
   "execution_count": 80,
   "metadata": {},
   "outputs": [
    {
     "name": "stdout",
     "output_type": "stream",
     "text": [
      "progresses : [94, 60, 60]\n",
      "count : 0\n",
      "progresses : [95, 90, 65]\n",
      "count : 0\n",
      "progresses : [96, 120, 70]\n",
      "count : 0\n",
      "progresses : [97, 150, 75]\n",
      "count : 0\n",
      "progresses : [98, 180, 80]\n",
      "count : 0\n",
      "progresses : [99, 210, 85]\n",
      "count : 0\n",
      "progresses : [100, 240, 90]\n",
      "count : 0\n",
      "progresses : [95]\n",
      "count : 2\n",
      "progresses : [100]\n",
      "count : 0\n",
      "progresses : []\n",
      "count : 1\n"
     ]
    }
   ],
   "source": [
    "answer = []\n",
    "while progresses: \n",
    "        count =0\n",
    "        \n",
    "        while progresses and progresses[0] >= 100:\n",
    "                count += 1\n",
    "                progresses.pop(0)\n",
    "                speeds.pop(0)   \n",
    "\n",
    "        progresses = [progresses[i] + speeds[i] for i in range(len(progresses))]\n",
    "        print(\"progresses :\",progresses)\n",
    "        print(\"count :\",count)\n",
    "        if count:\n",
    "            answer.append(count)"
   ]
  },
  {
   "cell_type": "code",
   "execution_count": 77,
   "metadata": {},
   "outputs": [
    {
     "data": {
      "text/plain": [
       "[2, 1]"
      ]
     },
     "execution_count": 77,
     "metadata": {},
     "output_type": "execute_result"
    }
   ],
   "source": [
    "answer"
   ]
  },
  {
   "cell_type": "code",
   "execution_count": null,
   "metadata": {},
   "outputs": [],
   "source": []
  }
 ],
 "metadata": {
  "kernelspec": {
   "display_name": "Python 3.9.6 64-bit",
   "language": "python",
   "name": "python3"
  },
  "language_info": {
   "codemirror_mode": {
    "name": "ipython",
    "version": 3
   },
   "file_extension": ".py",
   "mimetype": "text/x-python",
   "name": "python",
   "nbconvert_exporter": "python",
   "pygments_lexer": "ipython3",
   "version": "3.9.6"
  },
  "orig_nbformat": 4,
  "vscode": {
   "interpreter": {
    "hash": "2134e9e06ff0f43fbc4a90d89383a8592ae6dbbea825f5933f9c275bf72ba7a5"
   }
  }
 },
 "nbformat": 4,
 "nbformat_minor": 2
}
