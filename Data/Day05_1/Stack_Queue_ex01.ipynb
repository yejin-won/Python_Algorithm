{
 "cells": [
  {
   "cell_type": "code",
   "execution_count": 29,
   "metadata": {},
   "outputs": [],
   "source": [
    "arr = [1,1,3,3,0,1,1]"
   ]
  },
  {
   "cell_type": "code",
   "execution_count": 33,
   "metadata": {},
   "outputs": [
    {
     "name": "stdout",
     "output_type": "stream",
     "text": [
      "[1, 3, 0, 1]\n"
     ]
    }
   ],
   "source": [
    "answer = []\n",
    "\n",
    "for i in range(len(arr)):\n",
    "    if i == 0:\n",
    "        answer.append(arr[i])\n",
    "    elif arr[i-1] != arr[i]:\n",
    "        answer.append(arr[i])\n",
    "print(answer)"
   ]
  },
  {
   "cell_type": "code",
   "execution_count": null,
   "metadata": {},
   "outputs": [],
   "source": []
  }
 ],
 "metadata": {
  "kernelspec": {
   "display_name": "Python 3.9.6 64-bit",
   "language": "python",
   "name": "python3"
  },
  "language_info": {
   "codemirror_mode": {
    "name": "ipython",
    "version": 3
   },
   "file_extension": ".py",
   "mimetype": "text/x-python",
   "name": "python",
   "nbconvert_exporter": "python",
   "pygments_lexer": "ipython3",
   "version": "3.9.6"
  },
  "orig_nbformat": 4,
  "vscode": {
   "interpreter": {
    "hash": "2134e9e06ff0f43fbc4a90d89383a8592ae6dbbea825f5933f9c275bf72ba7a5"
   }
  }
 },
 "nbformat": 4,
 "nbformat_minor": 2
}
