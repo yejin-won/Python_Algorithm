{
 "cells": [
  {
   "cell_type": "markdown",
   "metadata": {},
   "source": [
    "### 가까운 수 "
   ]
  },
  {
   "cell_type": "code",
   "execution_count": 25,
   "metadata": {},
   "outputs": [],
   "source": [
    "array = [3,10,28]\n",
    "n = 20"
   ]
  },
  {
   "cell_type": "code",
   "execution_count": 28,
   "metadata": {},
   "outputs": [],
   "source": [
    "# 이 방법으로는 테스트 통과되지만 채점 통과안됨"
   ]
  },
  {
   "cell_type": "code",
   "execution_count": 26,
   "metadata": {},
   "outputs": [],
   "source": [
    "answer = 0\n",
    "result = []    \n",
    "for i in array:\n",
    "    result.append(i-n)\n",
    "    \n",
    "for i in range(len(result)):\n",
    "    for j in range(i+1,len(result)):\n",
    "        if abs(result[i]) == abs(result[j]):\n",
    "            if array[i] > array[j]:\n",
    "                answer = array[j]\n",
    "            else:\n",
    "                answer = array[i]\n",
    "    else:\n",
    "        if result[i] == max(result):\n",
    "            answer = array[i]\n"
   ]
  },
  {
   "cell_type": "code",
   "execution_count": 27,
   "metadata": {},
   "outputs": [
    {
     "data": {
      "text/plain": [
       "28"
      ]
     },
     "execution_count": 27,
     "metadata": {},
     "output_type": "execute_result"
    }
   ],
   "source": [
    "answer"
   ]
  },
  {
   "cell_type": "code",
   "execution_count": 29,
   "metadata": {},
   "outputs": [
    {
     "name": "stdout",
     "output_type": "stream",
     "text": [
      "0 17 3\n",
      "1 10 10\n",
      "2 8 28\n"
     ]
    }
   ],
   "source": [
    "for index, num in enumerate(array):\n",
    "    print(index, abs(n-num), num)"
   ]
  },
  {
   "cell_type": "code",
   "execution_count": 31,
   "metadata": {},
   "outputs": [
    {
     "data": {
      "text/plain": [
       "[[0, 17, 3], [1, 10, 10], [2, 8, 28]]"
      ]
     },
     "execution_count": 31,
     "metadata": {},
     "output_type": "execute_result"
    }
   ],
   "source": [
    "test = [[index, abs(n-num), num] for index,num in enumerate(array)]\n",
    "test"
   ]
  },
  {
   "cell_type": "code",
   "execution_count": 40,
   "metadata": {},
   "outputs": [
    {
     "data": {
      "text/plain": [
       "28"
      ]
     },
     "execution_count": 40,
     "metadata": {},
     "output_type": "execute_result"
    }
   ],
   "source": [
    "array[sorted(test,key=lambda x: (x[1], x[-1]))[0][0]]"
   ]
  },
  {
   "cell_type": "code",
   "execution_count": 41,
   "metadata": {},
   "outputs": [],
   "source": [
    "# 해당방법으로 해야 통과"
   ]
  },
  {
   "cell_type": "code",
   "execution_count": 42,
   "metadata": {},
   "outputs": [],
   "source": [
    "def solution(array, n):\n",
    "    answer = 0\n",
    "    result = [[index, abs(n-num), num] for index,num in enumerate(array)]\n",
    "    answer = array[sorted(result,key=lambda x: (x[1], x[-1]))[0][0]]\n",
    "    return answer"
   ]
  },
  {
   "cell_type": "code",
   "execution_count": 44,
   "metadata": {},
   "outputs": [
    {
     "data": {
      "text/plain": [
       "28"
      ]
     },
     "execution_count": 44,
     "metadata": {},
     "output_type": "execute_result"
    }
   ],
   "source": [
    "solution(array=[3,10,28],n=20)"
   ]
  },
  {
   "cell_type": "markdown",
   "metadata": {},
   "source": [
    "### 영어가 싫어요"
   ]
  },
  {
   "cell_type": "code",
   "execution_count": 54,
   "metadata": {},
   "outputs": [],
   "source": [
    "number_list = [\"zero\",\"one\",\"two\",\"three\",\"four\",\"five\",\"six\",\"seven\",\"eight\",\"night\"]\n",
    "numbers = \"onefourzerosixseven\"\n",
    "\n",
    "newnumber_list = [[idx,word] for idx,word in enumerate(number_list)]"
   ]
  },
  {
   "cell_type": "code",
   "execution_count": 85,
   "metadata": {},
   "outputs": [
    {
     "name": "stdout",
     "output_type": "stream",
     "text": [
      "onefourzerosix7\n"
     ]
    }
   ],
   "source": [
    "for i,j in newnumber_list:\n",
    "    if j in numbers:\n",
    "        numbers.replace(j,str(i))"
   ]
  },
  {
   "cell_type": "code",
   "execution_count": 86,
   "metadata": {},
   "outputs": [],
   "source": [
    "# 최종 코드"
   ]
  },
  {
   "cell_type": "code",
   "execution_count": 87,
   "metadata": {},
   "outputs": [],
   "source": [
    "def solution(numbers):\n",
    "    number_list = [\"zero\",\"one\",\"two\",\"three\",\"four\",\"five\",\"six\",\"seven\",\"eight\",\"nine\"]\n",
    "\n",
    "    newnumber_list = [[idx,word] for idx,word in enumerate(number_list)]\n",
    "    \n",
    "    for i,j in newnumber_list:\n",
    "        if j in numbers:\n",
    "            numbers = numbers.replace(j,str(i))\n",
    "    return int(numbers)"
   ]
  },
  {
   "cell_type": "code",
   "execution_count": 88,
   "metadata": {},
   "outputs": [
    {
     "data": {
      "text/plain": [
       "123456789"
      ]
     },
     "execution_count": 88,
     "metadata": {},
     "output_type": "execute_result"
    }
   ],
   "source": [
    "solution(\"onetwothreefourfivesixseveneightnine\")"
   ]
  },
  {
   "cell_type": "markdown",
   "metadata": {},
   "source": [
    "### 한 번만 등장한 문자"
   ]
  },
  {
   "cell_type": "code",
   "execution_count": 182,
   "metadata": {},
   "outputs": [],
   "source": [
    "# 기존에는 해쉬를 사용하여 빈도수를 이용하려 했지만 복잡해짐 "
   ]
  },
  {
   "cell_type": "code",
   "execution_count": 175,
   "metadata": {},
   "outputs": [],
   "source": [
    "s = \"abcabcadc\""
   ]
  },
  {
   "cell_type": "code",
   "execution_count": 181,
   "metadata": {},
   "outputs": [
    {
     "name": "stdout",
     "output_type": "stream",
     "text": [
      "d\n"
     ]
    }
   ],
   "source": [
    "answer = ''\n",
    "for i in s:\n",
    "    if s.count(i) == 1:\n",
    "        answer += i\n",
    "print(''.join(sorted(answer)))"
   ]
  },
  {
   "cell_type": "code",
   "execution_count": 198,
   "metadata": {},
   "outputs": [],
   "source": [
    "def solution(s):\n",
    "    answer = ''\n",
    "    for i in s:\n",
    "        if s.count(i) == 1:\n",
    "            answer += i\n",
    "    return ''.join(sorted(answer))"
   ]
  },
  {
   "cell_type": "code",
   "execution_count": 201,
   "metadata": {},
   "outputs": [],
   "source": [
    "# 해쉬를 이용하여 코드 작성함"
   ]
  },
  {
   "cell_type": "code",
   "execution_count": 199,
   "metadata": {},
   "outputs": [
    {
     "name": "stdout",
     "output_type": "stream",
     "text": [
      "d\n"
     ]
    }
   ],
   "source": [
    "hash = {}\n",
    "\n",
    "answer1 = '' \n",
    "for i in s:\n",
    "    if i in hash:\n",
    "        hash[i] += 1\n",
    "    else:\n",
    "        hash[i] = 1\n",
    "for i in s:\n",
    "    if hash[i] == 1:\n",
    "        answer1 += i\n",
    "        break\n",
    "print(''.join(sorted(answer1)))"
   ]
  },
  {
   "cell_type": "code",
   "execution_count": 200,
   "metadata": {},
   "outputs": [],
   "source": [
    "def solution(s):\n",
    "    hash = {}\n",
    "\n",
    "    answer1 = '' \n",
    "    for i in s:\n",
    "        if i in hash:\n",
    "            hash[i] += 1\n",
    "        else:\n",
    "            hash[i] = 1\n",
    "    for i in s:\n",
    "        if hash[i] == 1:\n",
    "            answer1 += i\n",
    "    return ''.join(sorted(answer1))"
   ]
  },
  {
   "cell_type": "code",
   "execution_count": null,
   "metadata": {},
   "outputs": [],
   "source": []
  }
 ],
 "metadata": {
  "kernelspec": {
   "display_name": "Python 3.9.6 64-bit",
   "language": "python",
   "name": "python3"
  },
  "language_info": {
   "codemirror_mode": {
    "name": "ipython",
    "version": 3
   },
   "file_extension": ".py",
   "mimetype": "text/x-python",
   "name": "python",
   "nbconvert_exporter": "python",
   "pygments_lexer": "ipython3",
   "version": "3.9.6"
  },
  "orig_nbformat": 4,
  "vscode": {
   "interpreter": {
    "hash": "2134e9e06ff0f43fbc4a90d89383a8592ae6dbbea825f5933f9c275bf72ba7a5"
   }
  }
 },
 "nbformat": 4,
 "nbformat_minor": 2
}
