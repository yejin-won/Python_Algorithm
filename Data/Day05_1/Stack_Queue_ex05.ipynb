{
 "cells": [
  {
   "cell_type": "code",
   "execution_count": 1,
   "metadata": {},
   "outputs": [],
   "source": [
    "prices = [1,2,3,2,3]"
   ]
  },
  {
   "cell_type": "code",
   "execution_count": 56,
   "metadata": {},
   "outputs": [
    {
     "name": "stdout",
     "output_type": "stream",
     "text": [
      "i : 1\n",
      "j : 2\n",
      "i : 1\n",
      "j : 4\n",
      "i : 3\n",
      "j : 2\n",
      "i : 3\n",
      "j : 4\n"
     ]
    }
   ],
   "source": [
    "answer = []\n",
    "N = len(prices)\n",
    "for i in range(len(prices)):\n",
    "    if i == 0:\n",
    "        answer.append(N-(i+1))\n",
    "    else:\n",
    "        for j in range(1,len(prices)):\n",
    "            if prices[i] < prices[j]:\n",
    "                answer.append(N-(j-i))\n",
    "                print(\"i :\",i)\n",
    "                print(\"j :\",j)\n",
    "            else:\n",
    "                answer.append(i-j)"
   ]
  },
  {
   "cell_type": "code",
   "execution_count": 57,
   "metadata": {},
   "outputs": [
    {
     "data": {
      "text/plain": [
       "[4, 0, 4, -2, 2, 1, 0, -1, -2, 2, 6, 0, 4, 3, 2, 1, 0]"
      ]
     },
     "execution_count": 57,
     "metadata": {},
     "output_type": "execute_result"
    }
   ],
   "source": [
    "answer"
   ]
  },
  {
   "cell_type": "code",
   "execution_count": null,
   "metadata": {},
   "outputs": [],
   "source": []
  }
 ],
 "metadata": {
  "kernelspec": {
   "display_name": "Python 3.9.6 64-bit",
   "language": "python",
   "name": "python3"
  },
  "language_info": {
   "codemirror_mode": {
    "name": "ipython",
    "version": 3
   },
   "file_extension": ".py",
   "mimetype": "text/x-python",
   "name": "python",
   "nbconvert_exporter": "python",
   "pygments_lexer": "ipython3",
   "version": "3.9.6"
  },
  "orig_nbformat": 4,
  "vscode": {
   "interpreter": {
    "hash": "2134e9e06ff0f43fbc4a90d89383a8592ae6dbbea825f5933f9c275bf72ba7a5"
   }
  }
 },
 "nbformat": 4,
 "nbformat_minor": 2
}
