{
 "cells": [
  {
   "cell_type": "code",
   "execution_count": 5,
   "metadata": {},
   "outputs": [
    {
     "name": "stdout",
     "output_type": "stream",
     "text": [
      "40.000%\n",
      "57.143%\n",
      "66.667%\n",
      "55.556%\n",
      "33.333%\n"
     ]
    }
   ],
   "source": [
    "testcase = int(input())\n",
    "\n",
    "for i in range(testcase):\n",
    "    n = list(map(int,input().split()))\n",
    "    avg = sum(n[1:])/n[0]\n",
    "\n",
    "    cnt = 0\n",
    "\n",
    "    for score in n[1:]:\n",
    "        if score > avg:\n",
    "            cnt+=1\n",
    "    print(f'{cnt/n[0]*100:.3f}%')\n"
   ]
  }
 ],
 "metadata": {
  "kernelspec": {
   "display_name": "Python 3.9.6 64-bit",
   "language": "python",
   "name": "python3"
  },
  "language_info": {
   "codemirror_mode": {
    "name": "ipython",
    "version": 3
   },
   "file_extension": ".py",
   "mimetype": "text/x-python",
   "name": "python",
   "nbconvert_exporter": "python",
   "pygments_lexer": "ipython3",
   "version": "3.9.6"
  },
  "orig_nbformat": 4,
  "vscode": {
   "interpreter": {
    "hash": "2134e9e06ff0f43fbc4a90d89383a8592ae6dbbea825f5933f9c275bf72ba7a5"
   }
  }
 },
 "nbformat": 4,
 "nbformat_minor": 2
}
