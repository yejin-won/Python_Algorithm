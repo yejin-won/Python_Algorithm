{
 "cells": [
  {
   "cell_type": "code",
   "execution_count": 23,
   "metadata": {},
   "outputs": [
    {
     "name": "stdout",
     "output_type": "stream",
     "text": [
      "75.0\n"
     ]
    }
   ],
   "source": [
    "num = int(input())\n",
    "arr = list(map(int, input().split()))\n",
    "M = max(arr)\n",
    "\n",
    "for i in range(num):\n",
    "   arr[i]=(arr[i]/M)*100\n",
    "print(sum(arr)/num)"
   ]
  }
 ],
 "metadata": {
  "kernelspec": {
   "display_name": "Python 3.9.6 64-bit",
   "language": "python",
   "name": "python3"
  },
  "language_info": {
   "codemirror_mode": {
    "name": "ipython",
    "version": 3
   },
   "file_extension": ".py",
   "mimetype": "text/x-python",
   "name": "python",
   "nbconvert_exporter": "python",
   "pygments_lexer": "ipython3",
   "version": "3.9.6"
  },
  "orig_nbformat": 4,
  "vscode": {
   "interpreter": {
    "hash": "2134e9e06ff0f43fbc4a90d89383a8592ae6dbbea825f5933f9c275bf72ba7a5"
   }
  }
 },
 "nbformat": 4,
 "nbformat_minor": 2
}
