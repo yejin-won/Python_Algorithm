{
 "cells": [
  {
   "cell_type": "code",
   "execution_count": 99,
   "metadata": {},
   "outputs": [],
   "source": [
    "a = [3, 30, 34, 5, 9]"
   ]
  },
  {
   "cell_type": "code",
   "execution_count": 69,
   "metadata": {},
   "outputs": [
    {
     "name": "stdout",
     "output_type": "stream",
     "text": [
      "9534330\n"
     ]
    }
   ],
   "source": [
    "a = sorted(a,key=lambda n :str(n)*3,reverse=True)\n",
    "\n",
    "answer = \"\"\n",
    "for i in a:\n",
    "    answer += str(i)\n",
    "print(answer)"
   ]
  },
  {
   "cell_type": "code",
   "execution_count": 88,
   "metadata": {},
   "outputs": [],
   "source": [
    "def solution(a):\n",
    "    a = list(map(str,a))\n",
    "    a = sorted(a,key=lambda n :str(n)*3,reverse=True)\n",
    "\n",
    "    answer = \"\"\n",
    "    answer = ''.join(a)\n",
    "    return str(int(answer))"
   ]
  },
  {
   "cell_type": "code",
   "execution_count": 122,
   "metadata": {},
   "outputs": [],
   "source": [
    "def comperator_func(array):\n",
    "    list = [a[i] for i in range(1,len(a))]\n",
    "\n",
    "    answer = 0\n",
    "    result = [a[0]]\n",
    "    temp = []\n",
    "\n",
    "    for i in list:\n",
    "        if a[0] > i:\n",
    "            answer = 1\n",
    "        elif a[0] == i:\n",
    "            answer = 0\n",
    "        else:\n",
    "            answer = -1\n",
    "\n",
    "        if answer == 1:\n",
    "            result.append(i)\n",
    "        else:\n",
    "            temp.append(i)\n",
    "    list1 = result + temp\n",
    "    return list1"
   ]
  },
  {
   "cell_type": "code",
   "execution_count": 124,
   "metadata": {},
   "outputs": [
    {
     "data": {
      "text/plain": [
       "[9, 5, 34, 30, 3]"
      ]
     },
     "execution_count": 124,
     "metadata": {},
     "output_type": "execute_result"
    }
   ],
   "source": [
    "comperator_func(a)[::-1]"
   ]
  },
  {
   "cell_type": "code",
   "execution_count": 117,
   "metadata": {},
   "outputs": [
    {
     "data": {
      "text/plain": [
       "[3, 30, 34, 5, 9]"
      ]
     },
     "execution_count": 117,
     "metadata": {},
     "output_type": "execute_result"
    }
   ],
   "source": []
  },
  {
   "cell_type": "code",
   "execution_count": 98,
   "metadata": {},
   "outputs": [
    {
     "name": "stdout",
     "output_type": "stream",
     "text": [
      "9533430\n"
     ]
    }
   ],
   "source": [
    "arr = comperator_func(a)\n",
    "answer = ''\n",
    "\n",
    "for i in arr:\n",
    "    answer +=str(i)\n",
    "print(answer) "
   ]
  },
  {
   "cell_type": "code",
   "execution_count": null,
   "metadata": {},
   "outputs": [],
   "source": []
  },
  {
   "cell_type": "code",
   "execution_count": null,
   "metadata": {},
   "outputs": [],
   "source": []
  }
 ],
 "metadata": {
  "kernelspec": {
   "display_name": "Python 3.9.6 64-bit",
   "language": "python",
   "name": "python3"
  },
  "language_info": {
   "codemirror_mode": {
    "name": "ipython",
    "version": 3
   },
   "file_extension": ".py",
   "mimetype": "text/x-python",
   "name": "python",
   "nbconvert_exporter": "python",
   "pygments_lexer": "ipython3",
   "version": "3.9.6"
  },
  "orig_nbformat": 4,
  "vscode": {
   "interpreter": {
    "hash": "2134e9e06ff0f43fbc4a90d89383a8592ae6dbbea825f5933f9c275bf72ba7a5"
   }
  }
 },
 "nbformat": 4,
 "nbformat_minor": 2
}
