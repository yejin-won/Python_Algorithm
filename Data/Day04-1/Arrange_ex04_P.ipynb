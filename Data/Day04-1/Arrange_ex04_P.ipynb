{
 "cells": [
  {
   "cell_type": "code",
   "execution_count": 1,
   "metadata": {},
   "outputs": [],
   "source": [
    "numbers = [1, 2, 3, 4, 5, 6]"
   ]
  },
  {
   "cell_type": "code",
   "execution_count": 2,
   "metadata": {},
   "outputs": [],
   "source": [
    "n = 4\n",
    "test = []\n",
    "if n == 4:\n",
    "    for i in numbers:\n",
    "       test.append(i-n)"
   ]
  },
  {
   "cell_type": "code",
   "execution_count": 3,
   "metadata": {},
   "outputs": [
    {
     "data": {
      "text/plain": [
       "[-3, -2, -1, 0, 1, 2]"
      ]
     },
     "execution_count": 3,
     "metadata": {},
     "output_type": "execute_result"
    }
   ],
   "source": [
    "test"
   ]
  },
  {
   "cell_type": "code",
   "execution_count": 4,
   "metadata": {},
   "outputs": [
    {
     "name": "stdout",
     "output_type": "stream",
     "text": [
      "1 3\n",
      "2 2\n",
      "3 1\n",
      "4 0\n",
      "5 1\n",
      "6 2\n"
     ]
    }
   ],
   "source": [
    "for i,j in list(zip(numbers,test)):\n",
    "    print(i,abs(j))"
   ]
  },
  {
   "cell_type": "code",
   "execution_count": 5,
   "metadata": {},
   "outputs": [],
   "source": [
    "test1 = list(zip(numbers,test))"
   ]
  },
  {
   "cell_type": "code",
   "execution_count": 6,
   "metadata": {},
   "outputs": [],
   "source": [
    "test1.sort(key=lambda x : (abs(x[:][1])),reverse=True)"
   ]
  },
  {
   "cell_type": "code",
   "execution_count": 7,
   "metadata": {},
   "outputs": [],
   "source": [
    "test2 = []\n",
    "for i in range(len(test1)):\n",
    "    test2.append(test1[i][0])"
   ]
  },
  {
   "cell_type": "code",
   "execution_count": 8,
   "metadata": {},
   "outputs": [
    {
     "data": {
      "text/plain": [
       "[4, 5, 3, 6, 2, 1]"
      ]
     },
     "execution_count": 8,
     "metadata": {},
     "output_type": "execute_result"
    }
   ],
   "source": [
    "test2[::-1]"
   ]
  },
  {
   "cell_type": "code",
   "execution_count": 9,
   "metadata": {},
   "outputs": [],
   "source": [
    "# 85점짜리 답안\n",
    "def solution(numlist, n):\n",
    "    answer = []\n",
    "    test = []\n",
    "    test1 = []\n",
    "    for i in numlist:\n",
    "        test.append(i-n)\n",
    "    test1 = list(zip(numlist,test))\n",
    "    test1.sort(key=lambda x : (abs(x[:][1])),reverse=True)\n",
    "    test2 = []\n",
    "    for i in range(len(test1)):\n",
    "        test2.append(test1[i][0])\n",
    "    answer = test2[::-1]\n",
    "    return answer"
   ]
  },
  {
   "cell_type": "code",
   "execution_count": 10,
   "metadata": {},
   "outputs": [
    {
     "data": {
      "text/plain": [
       "[6, 5, 7, 4, 8, 3, 9, 2, 10, 11, 1]"
      ]
     },
     "execution_count": 10,
     "metadata": {},
     "output_type": "execute_result"
    }
   ],
   "source": [
    "solution([10,9,8,7,6,5,4,3,2,1,11],6)"
   ]
  },
  {
   "cell_type": "code",
   "execution_count": 127,
   "metadata": {},
   "outputs": [],
   "source": [
    "numbers = [10000,20,36,47,40,6,10,7000]"
   ]
  },
  {
   "cell_type": "code",
   "execution_count": 131,
   "metadata": {},
   "outputs": [],
   "source": [
    "temp = []\n",
    "n = 30 \n",
    "for idx,val in enumerate(numbers,start=1):\n",
    "    temp.append((abs(val-n),val))"
   ]
  },
  {
   "cell_type": "code",
   "execution_count": 132,
   "metadata": {},
   "outputs": [],
   "source": [
    "temp.sort()"
   ]
  },
  {
   "cell_type": "code",
   "execution_count": 133,
   "metadata": {},
   "outputs": [
    {
     "data": {
      "text/plain": [
       "[(6, 36),\n",
       " (10, 20),\n",
       " (10, 40),\n",
       " (17, 47),\n",
       " (20, 10),\n",
       " (24, 6),\n",
       " (6970, 7000),\n",
       " (9970, 10000)]"
      ]
     },
     "execution_count": 133,
     "metadata": {},
     "output_type": "execute_result"
    }
   ],
   "source": [
    "temp"
   ]
  },
  {
   "cell_type": "code",
   "execution_count": 134,
   "metadata": {},
   "outputs": [],
   "source": [
    "for i in temp:\n",
    "    temp.sort(key=lambda x : (x[0],-x[1]))"
   ]
  },
  {
   "cell_type": "code",
   "execution_count": 135,
   "metadata": {},
   "outputs": [
    {
     "name": "stdout",
     "output_type": "stream",
     "text": [
      "[36, 40, 20, 47, 10, 6, 7000, 10000]\n"
     ]
    }
   ],
   "source": [
    "result = []\n",
    "for i in temp:\n",
    "    result.append(i[1])\n",
    "print(result)"
   ]
  },
  {
   "cell_type": "code",
   "execution_count": 136,
   "metadata": {},
   "outputs": [],
   "source": [
    "# 최종 답안(통과)\n",
    "def solution(numlist, n):\n",
    "    temp = []\n",
    "    for idx,val in enumerate(numlist,start=1):\n",
    "        temp.append((abs(val-n),val))\n",
    "        # 절대값(배열값-n) , 배열값으로 이루어진 값으로 배열 생성\n",
    "    for i in temp:\n",
    "        temp.sort(key=lambda x : (x[0],-x[1]))\n",
    "        # -x[1]은 인덱스 1에 해당하는 값을 역순으로 정렬하라는 뜻\n",
    "    result = []\n",
    "    for i in temp:\n",
    "        result.append(i[1])\n",
    "        # 배열 값만 따로 저장할 배열 생성하여 반환\n",
    "    return result"
   ]
  },
  {
   "cell_type": "code",
   "execution_count": null,
   "metadata": {},
   "outputs": [],
   "source": []
  }
 ],
 "metadata": {
  "kernelspec": {
   "display_name": "Python 3.9.6 64-bit",
   "language": "python",
   "name": "python3"
  },
  "language_info": {
   "codemirror_mode": {
    "name": "ipython",
    "version": 3
   },
   "file_extension": ".py",
   "mimetype": "text/x-python",
   "name": "python",
   "nbconvert_exporter": "python",
   "pygments_lexer": "ipython3",
   "version": "3.9.6"
  },
  "orig_nbformat": 4,
  "vscode": {
   "interpreter": {
    "hash": "2134e9e06ff0f43fbc4a90d89383a8592ae6dbbea825f5933f9c275bf72ba7a5"
   }
  }
 },
 "nbformat": 4,
 "nbformat_minor": 2
}
